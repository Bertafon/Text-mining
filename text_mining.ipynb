{
 "cells": [
  {
   "cell_type": "markdown",
   "metadata": {},
   "source": [
    "# Data-driven research - project 19.06.2022\n",
    "## Norbert Burmistrzak, Zuzanna Miazio\n",
    "\n",
    "The aim of the project is to conduct text analysis on two datasets: Reddit comments before and after the outbreak of the war in Ukraine. The issues concern Poland and Polish politicians. The analysis is to verify whether the perception and frequency of occurrence of selected issues has changed as a result of the ethical attitude of the society towards war refugees."
   ]
  },
  {
   "cell_type": "code",
   "execution_count": 1,
   "metadata": {},
   "outputs": [],
   "source": [
    "import numpy as np\n",
    "import pandas as pd\n",
    "import datetime as dt\n",
    "import nltk\n",
    "from nltk.tokenize import word_tokenize\n",
    "from nltk.corpus import stopwords\n",
    "from collections import Counter\n",
    "from nltk.stem import SnowballStemmer\n",
    "import vader\n",
    "from vaderSentiment.vaderSentiment import SentimentIntensityAnalyzer\n",
    "import matplotlib.pyplot as plt\n",
    "from matplotlib.pyplot import figure"
   ]
  },
  {
   "cell_type": "markdown",
   "metadata": {
    "tags": []
   },
   "source": [
    "## Database creation\n",
    "\n",
    "The database was created from comments on Reddit. The following subbreds were selected: europe, worldnews, news, politics and geopolitics. They concern the most important events in the world and are widely commented on, which allowed to obtain a large number of observations. In addition, they correspond to the idea of the work, which was to focus mainly on social and political issues.\n",
    "\n",
    "Two separate databases were created. The first contains comments written after the outbreak of war. The second contains information from 01/01/2019 to 24/02/2022. The lower bound ensures that the scraper will not pick comments posted a long time ago."
   ]
  },
  {
   "cell_type": "code",
   "execution_count": 2,
   "metadata": {},
   "outputs": [],
   "source": [
    "from pmaw import PushshiftAPI\n",
    "api = PushshiftAPI() # Occasionally, the Pushshift API does not return any comments due to API outages. "
   ]
  },
  {
   "cell_type": "code",
   "execution_count": 3,
   "metadata": {},
   "outputs": [],
   "source": [
    "start_epoch = int(dt.datetime(2022, 2, 24).timestamp())\n",
    "end_epoch = int(dt.datetime(2022, 5, 11).timestamp())"
   ]
  },
  {
   "cell_type": "code",
   "execution_count": 4,
   "metadata": {},
   "outputs": [],
   "source": [
    "subreddits = ['europe', 'worldnews', 'news', 'politics', 'geopolitics']\n",
    "words = '(Poland)|(Polish)|(Poles)|(PL)|(Złoty)|(Morawiecki)|(Andrzej Duda)|(Kaczyński)|(Warsaw)|'\n",
    "df_after_war = pd.DataFrame([])\n",
    "\n",
    "for sreddit in subreddits:\n",
    "\n",
    "    api_request_generator = api.search_comments(after=start_epoch, before=end_epoch, q=words, subreddit=sreddit, limit = None,\n",
    "                                                   filter=['author', 'date', 'title', 'body', 'url', 'subreddit', 'score'])\n",
    "\n",
    "\n",
    "    temp = pd.DataFrame([submission.d_ for submission in api_request_generator])\n",
    "    df_after_war = pd.concat([df_after_war, temp])\n",
    "    \n",
    "# save to csv file so you don't have to download every time\n",
    "df_after_war.to_csv('data_after_war.csv')"
   ]
  },
  {
   "cell_type": "code",
   "execution_count": 5,
   "metadata": {},
   "outputs": [],
   "source": [
    "df_after_war = pd.read_csv('data_after_war.csv')"
   ]
  },
  {
   "cell_type": "markdown",
   "metadata": {},
   "source": [
    "The second database contains information from 01/01/2019 to 01/05/2021. The lower bound of the range ensures that the scraper will not pick up comments posted a long time ago. The upper one was set six months before the start of the conflict, because the war has been talked about for a long time and there is a risk that it could distort the data and their long-term trend."
   ]
  },
  {
   "cell_type": "code",
   "execution_count": 6,
   "metadata": {},
   "outputs": [],
   "source": [
    "end_epoch=int(dt.datetime(2021, 5, 1).timestamp())\n",
    "start_epoch=int(dt.datetime(2019, 1, 1).timestamp())"
   ]
  },
  {
   "cell_type": "code",
   "execution_count": 7,
   "metadata": {},
   "outputs": [
    {
     "data": {
      "text/plain": [
       "europe         9991\n",
       "worldnews      9928\n",
       "news           2688\n",
       "politics       1981\n",
       "geopolitics     711\n",
       "Name: subreddit, dtype: int64"
      ]
     },
     "execution_count": 7,
     "metadata": {},
     "output_type": "execute_result"
    }
   ],
   "source": [
    "# limits were set to get a similar number of comments from each subreddit\n",
    "df_after_war['subreddit'].value_counts()"
   ]
  },
  {
   "cell_type": "code",
   "execution_count": 8,
   "metadata": {},
   "outputs": [],
   "source": [
    "subreddits = [['europe',9991], ['worldnews',9928], ['news',2688], ['politics',1981], ['geopolitics',711]]\n",
    "words = '(Poland)|(Polish)|(Poles)|(PL)|(Złoty)|(Morawiecki)|(Andrzej Duda)|(Kaczyński)|(Warsaw)|'\n",
    "df_before_war = pd.DataFrame([])\n",
    "\n",
    "for sreddit in subreddits:\n",
    "\n",
    "    api_request_generator = api.search_comments(after=start_epoch, before=end_epoch, q=words, subreddit=sreddit[0], limit = sreddit[1],\n",
    "                                                   filter=['author', 'date', 'title', 'body', 'url', 'subreddit', 'score'])\n",
    "\n",
    "\n",
    "    temp = pd.DataFrame([submission.d_ for submission in api_request_generator])\n",
    "    df_before_war = pd.concat([df_before_war, temp])\n",
    "\n",
    "# save to csv file so you don't have to download every time\n",
    "df_before_war.to_csv('data_before_war.csv')"
   ]
  },
  {
   "cell_type": "code",
   "execution_count": 9,
   "metadata": {},
   "outputs": [],
   "source": [
    "df_before_war = pd.read_csv('data_before_war.csv')"
   ]
  },
  {
   "cell_type": "code",
   "execution_count": 10,
   "metadata": {},
   "outputs": [
    {
     "data": {
      "text/html": [
       "<div>\n",
       "<style scoped>\n",
       "    .dataframe tbody tr th:only-of-type {\n",
       "        vertical-align: middle;\n",
       "    }\n",
       "\n",
       "    .dataframe tbody tr th {\n",
       "        vertical-align: top;\n",
       "    }\n",
       "\n",
       "    .dataframe thead th {\n",
       "        text-align: right;\n",
       "    }\n",
       "</style>\n",
       "<table border=\"1\" class=\"dataframe\">\n",
       "  <thead>\n",
       "    <tr style=\"text-align: right;\">\n",
       "      <th></th>\n",
       "      <th>Unnamed: 0</th>\n",
       "      <th>author</th>\n",
       "      <th>body</th>\n",
       "      <th>created_utc</th>\n",
       "      <th>score</th>\n",
       "      <th>subreddit</th>\n",
       "      <th>created</th>\n",
       "    </tr>\n",
       "  </thead>\n",
       "  <tbody>\n",
       "    <tr>\n",
       "      <th>0</th>\n",
       "      <td>0</td>\n",
       "      <td>Reditp</td>\n",
       "      <td>I'm polish and I wouldn't want to protect this...</td>\n",
       "      <td>2021-04-30 21:45:10+00:00</td>\n",
       "      <td>0</td>\n",
       "      <td>europe</td>\n",
       "      <td>1.619812e+09</td>\n",
       "    </tr>\n",
       "    <tr>\n",
       "      <th>1</th>\n",
       "      <td>1</td>\n",
       "      <td>I_love_limey_butts</td>\n",
       "      <td>This must've been before he invaded Poland, ba...</td>\n",
       "      <td>2021-04-30 21:24:15+00:00</td>\n",
       "      <td>2</td>\n",
       "      <td>europe</td>\n",
       "      <td>1.619811e+09</td>\n",
       "    </tr>\n",
       "    <tr>\n",
       "      <th>2</th>\n",
       "      <td>2</td>\n",
       "      <td>Sugar_Free_RedBull</td>\n",
       "      <td>Poland right after USA? What have the pierogi ...</td>\n",
       "      <td>2021-04-30 21:22:18+00:00</td>\n",
       "      <td>2</td>\n",
       "      <td>europe</td>\n",
       "      <td>1.619811e+09</td>\n",
       "    </tr>\n",
       "    <tr>\n",
       "      <th>3</th>\n",
       "      <td>3</td>\n",
       "      <td>jewish_deepthroater</td>\n",
       "      <td>&amp;gt;I get the sense Poles would rather die tha...</td>\n",
       "      <td>2021-04-30 21:19:05+00:00</td>\n",
       "      <td>3</td>\n",
       "      <td>europe</td>\n",
       "      <td>1.619810e+09</td>\n",
       "    </tr>\n",
       "    <tr>\n",
       "      <th>4</th>\n",
       "      <td>4</td>\n",
       "      <td>blablaminek</td>\n",
       "      <td>the support for gay marriage/civil unions is h...</td>\n",
       "      <td>2021-04-30 21:18:03+00:00</td>\n",
       "      <td>3</td>\n",
       "      <td>europe</td>\n",
       "      <td>1.619810e+09</td>\n",
       "    </tr>\n",
       "  </tbody>\n",
       "</table>\n",
       "</div>"
      ],
      "text/plain": [
       "   Unnamed: 0               author  \\\n",
       "0           0               Reditp   \n",
       "1           1   I_love_limey_butts   \n",
       "2           2   Sugar_Free_RedBull   \n",
       "3           3  jewish_deepthroater   \n",
       "4           4          blablaminek   \n",
       "\n",
       "                                                body  \\\n",
       "0  I'm polish and I wouldn't want to protect this...   \n",
       "1  This must've been before he invaded Poland, ba...   \n",
       "2  Poland right after USA? What have the pierogi ...   \n",
       "3  &gt;I get the sense Poles would rather die tha...   \n",
       "4  the support for gay marriage/civil unions is h...   \n",
       "\n",
       "                created_utc  score subreddit       created  \n",
       "0 2021-04-30 21:45:10+00:00      0    europe  1.619812e+09  \n",
       "1 2021-04-30 21:24:15+00:00      2    europe  1.619811e+09  \n",
       "2 2021-04-30 21:22:18+00:00      2    europe  1.619811e+09  \n",
       "3 2021-04-30 21:19:05+00:00      3    europe  1.619810e+09  \n",
       "4 2021-04-30 21:18:03+00:00      3    europe  1.619810e+09  "
      ]
     },
     "execution_count": 10,
     "metadata": {},
     "output_type": "execute_result"
    }
   ],
   "source": [
    "df_before_war['created_utc'] = pd.to_datetime(df_before_war['created_utc'], utc=True, unit='s')\n",
    "df_after_war['created_utc'] = pd.to_datetime(df_after_war['created_utc'], utc=True, unit='s')\n",
    "df_before_war.head()"
   ]
  },
  {
   "cell_type": "markdown",
   "metadata": {},
   "source": [
    "## Text mining"
   ]
  },
  {
   "cell_type": "code",
   "execution_count": 11,
   "metadata": {},
   "outputs": [],
   "source": [
    "stopword_list=stopwords.words('english')\n",
    "st = SnowballStemmer('english')"
   ]
  },
  {
   "cell_type": "code",
   "execution_count": 12,
   "metadata": {},
   "outputs": [],
   "source": [
    "# # a list of meaningless words that occur frequently and contribute nothing to the analysis\n",
    "meaningless_words = ['\\'s', 'n\\'t', 'gt', '``', 'one', 'https', 'also', 'even', 'get', 'go', 'want', 'say', 'year', 'time', 'thing', 'much', 'know', '...', 'use','\\'\\'',\n",
    "                    'think', 're', 'make', 'could', 'mani', 'still', 'mean', '\\'m', 'well', 'live', 'need', 'amp', 'look', 'take', 'like', 'would']\n",
    "stopword_list.extend(meaningless_words)"
   ]
  },
  {
   "cell_type": "code",
   "execution_count": 13,
   "metadata": {},
   "outputs": [],
   "source": [
    "# text processing for text mining\n",
    "def text_processing(df):\n",
    "    df['text']=df['body'].apply(lambda x: word_tokenize(x)) # split into single words\n",
    "    df['text']=df['text'].apply(lambda row: [i.lower() for i in row]) # convert to lowercase\n",
    "    df['text']=df['text'].apply(lambda row: [i for i in row if i not in stopword_list and len(i)>1] ) # remove words like the, an, and\n",
    "    df['text_st']=df['text'].apply(lambda row: [st.stem(i) for i in row ] ) # word variety\n",
    "\n",
    "text_processing(df_before_war)\n",
    "text_processing(df_after_war)"
   ]
  },
  {
   "cell_type": "code",
   "execution_count": 14,
   "metadata": {},
   "outputs": [],
   "source": [
    "# most common words\n",
    "def most_common_words(df):\n",
    "    frequencies = Counter()\n",
    "    for i, row in df.iterrows():\n",
    "        counts=Counter(row['text_st'])\n",
    "        frequencies.update(counts)\n",
    "    print(frequencies.most_common()[:20])"
   ]
  },
  {
   "cell_type": "code",
   "execution_count": 15,
   "metadata": {},
   "outputs": [
    {
     "name": "stdout",
     "output_type": "stream",
     "text": [
      "[('poland', 18832), ('peopl', 8916), ('countri', 8913), ('polish', 8455), ('germani', 4923), ('russia', 4792), ('eu', 4530), ('us', 4328), ('pole', 3794), ('war', 3707), ('europ', 3551), ('right', 3444), ('state', 3356), ('german', 3015), ('govern', 2802), ('russian', 2664), ('re', 2639), ('mani', 2518), ('see', 2470), ('year', 2426)]\n"
     ]
    }
   ],
   "source": [
    "most_common_words(df_before_war)"
   ]
  },
  {
   "cell_type": "markdown",
   "metadata": {},
   "source": [
    "The topics of the selected subreddits concern news and politics, so the most common words before the war are country, people, state, government. The words germany, eu, us, russia are also frequent. These countries are Poland's largest political and economic partners, so news on the international arena mainly mentions them. The noun war was also relatively popular before the war, probably because the potential conflict in Ukraine had already been discussed much earlier, and also due to the popularity of historical articles about World War II"
   ]
  },
  {
   "cell_type": "code",
   "execution_count": 16,
   "metadata": {},
   "outputs": [
    {
     "name": "stdout",
     "output_type": "stream",
     "text": [
      "[('poland', 23037), ('russia', 12731), ('ukrain', 11721), ('countri', 9101), ('russian', 8086), ('germani', 7299), ('war', 6421), ('polish', 6364), ('nato', 5884), ('peopl', 5737), ('eu', 5662), ('us', 5451), ('ukrainian', 3841), ('putin', 3830), ('europ', 3470), ('german', 3427), ('state', 3356), ('gas', 3211), ('right', 3095), ('said', 3015)]\n"
     ]
    }
   ],
   "source": [
    "# the most common words after the outbreak of war\n",
    "most_common_words(df_after_war)"
   ]
  },
  {
   "cell_type": "markdown",
   "metadata": {},
   "source": [
    "After the outbreak of war, posts about the conflict definitely dominated Reddit. There was an almost three-fold increase in the occurrence of the word Russia, almost four times russian and two times war. Moreover, terms such as ukraine (as many as 11,721 occurrences), ukrainian, putin, gas, nato appear."
   ]
  },
  {
   "cell_type": "code",
   "execution_count": 17,
   "metadata": {},
   "outputs": [],
   "source": [
    "# what words often occurred in pairs\n",
    "def pairs(df): \n",
    "    pairs = Counter()\n",
    "    for i, row in df.iterrows():\n",
    "        counts=Counter(list(nltk.bigrams(row['text_st'])))\n",
    "        pairs.update(counts)\n",
    "    print(pairs.most_common()[:10])"
   ]
  },
  {
   "cell_type": "code",
   "execution_count": 18,
   "metadata": {},
   "outputs": [
    {
     "name": "stdout",
     "output_type": "stream",
     "text": [
      "[(('poland', 'hungari'), 695), (('polish', 'peopl'), 611), (('invad', 'poland'), 550), (('nail', 'polish'), 530), (('eastern', 'europ'), 515), (('--', '--'), 463), (('warsaw', 'pact'), 461), (('european', 'countri'), 456), (('soviet', 'union'), 444), (('hungari', 'poland'), 410)]\n"
     ]
    }
   ],
   "source": [
    "pairs(df_before_war)"
   ]
  },
  {
   "cell_type": "markdown",
   "metadata": {},
   "source": [
    "In the database relating to the period before the outbreak of the war, the connection poland and hungary appears twice, which proves that Hungarians are Poland's main political partner and the media often write about it. There is also a soviet-union, which confirms the thesis about the high popularity of historical news. The others are rather random and hard to assign meaning to them"
   ]
  },
  {
   "cell_type": "code",
   "execution_count": 19,
   "metadata": {},
   "outputs": [
    {
     "name": "stdout",
     "output_type": "stream",
     "text": [
      "[(('russian', 'gas'), 738), (('warsaw', 'pact'), 703), (('poland', 'hungari'), 641), (('invad', 'poland'), 627), (('soviet', 'union'), 621), (('eastern', 'europ'), 534), (('nato', 'countri'), 468), (('european', 'countri'), 416), (('hungari', 'poland'), 411), (('unit', 'state'), 410)]\n"
     ]
    }
   ],
   "source": [
    "# after war \n",
    "pairs(df_after_war)"
   ]
  },
  {
   "cell_type": "markdown",
   "metadata": {},
   "source": [
    "After the outbreak of war, russian-gas appears most often, most likely in relation to economic sanctions. NATO-countries and united-states are very common, so a lot of comments about the state's allies and foreign policy were written during this time. Summing up, the thesis that Reddit is dominated by the subject of war is again confirmed."
   ]
  },
  {
   "cell_type": "code",
   "execution_count": 20,
   "metadata": {},
   "outputs": [],
   "source": [
    "# dividing the text into paragraphs, needed for further analysis\n",
    "def divide(df):\n",
    "    df['text_p']=df['body'].str.split('\\n\\n')\n",
    "    df['text_p']=df['text_p'].apply(lambda x: [i.lower() for i in x])\n",
    "    text=[]\n",
    "    for i,j in df.iterrows():\n",
    "        for l in j['text_p']:\n",
    "            text.append(l)\n",
    "    token=[]\n",
    "    for i in text:\n",
    "        token.append(word_tokenize(i))\n",
    "    text = [[i for i in j if i not in stopword_list and len(i)>1] for j in token]\n",
    "    text = [[st.stem(x) for x in j] for j in text]\n",
    "    return text\n",
    "\n",
    "text_before = divide(df_before_war)\n",
    "text_after = divide(df_after_war)"
   ]
  },
  {
   "cell_type": "code",
   "execution_count": 21,
   "metadata": {},
   "outputs": [
    {
     "name": "stdout",
     "output_type": "stream",
     "text": [
      "poland 16761\n",
      "polish 7491\n",
      "poles 0\n",
      "pl 139\n",
      "złoty 0\n",
      "warsaw 1467\n",
      "morawiecki 46\n",
      "andrzej duda 0\n",
      "kaczyński 76\n"
     ]
    }
   ],
   "source": [
    "# how often do words selected for analysis occur?\n",
    "words = ['poland', 'polish', 'poles', 'pl', 'złoty', 'warsaw', 'morawiecki', 'andrzej duda' ,'kaczyński']\n",
    "for word in words:\n",
    "    w=[i for i in text_before if word in i]\n",
    "    print(word, len(w))"
   ]
  },
  {
   "cell_type": "code",
   "execution_count": 22,
   "metadata": {},
   "outputs": [
    {
     "name": "stdout",
     "output_type": "stream",
     "text": [
      "poland 20216\n",
      "polish 5667\n",
      "poles 0\n",
      "pl 80\n",
      "złoty 0\n",
      "warsaw 1419\n",
      "morawiecki 258\n",
      "andrzej duda 0\n",
      "kaczyński 119\n"
     ]
    }
   ],
   "source": [
    "# after war \n",
    "for word in words:\n",
    "    w=[i for i in text_after if word in i]\n",
    "    print(word, len(w))"
   ]
  },
  {
   "cell_type": "markdown",
   "metadata": {},
   "source": [
    "The frequency of occurrence of the words we selected is similar in both datasets. An interesting observation is that after the outbreak of the war, Mateusz Morawiecki's popularity in downloaded comments increased more than five times. Jarosław Kaczyński recorded an almost two-fold increase. Three of the selected keywords did not find any occurrences. The words poles, zloty and Andrzej Duda did not appear in the comments before or after the escalation of the conflict."
   ]
  },
  {
   "cell_type": "markdown",
   "metadata": {
    "tags": []
   },
   "source": [
    "## Sentiment analysis\n",
    "The next step in our analysis is sentiment analysis."
   ]
  },
  {
   "cell_type": "code",
   "execution_count": 23,
   "metadata": {},
   "outputs": [],
   "source": [
    "analyzer = SentimentIntensityAnalyzer()"
   ]
  },
  {
   "cell_type": "code",
   "execution_count": 24,
   "metadata": {},
   "outputs": [],
   "source": [
    "def sentiment(df):\n",
    "    df['sentiment']=df['body'].apply(lambda x: analyzer.polarity_scores(x))\n",
    "    df['sentiment_score']=df['sentiment'].apply(lambda x: x['compound'])\n",
    "    df['sentiment_pos']=df['sentiment'].apply(lambda x: x['pos'])\n",
    "    df['sentiment_neg']=df['sentiment'].apply(lambda x: x['neg'])\n",
    "    \n",
    "sentiment(df_before_war)\n",
    "sentiment(df_after_war)"
   ]
  },
  {
   "cell_type": "code",
   "execution_count": 25,
   "metadata": {},
   "outputs": [
    {
     "data": {
      "text/html": [
       "<div>\n",
       "<style scoped>\n",
       "    .dataframe tbody tr th:only-of-type {\n",
       "        vertical-align: middle;\n",
       "    }\n",
       "\n",
       "    .dataframe tbody tr th {\n",
       "        vertical-align: top;\n",
       "    }\n",
       "\n",
       "    .dataframe thead th {\n",
       "        text-align: right;\n",
       "    }\n",
       "</style>\n",
       "<table border=\"1\" class=\"dataframe\">\n",
       "  <thead>\n",
       "    <tr style=\"text-align: right;\">\n",
       "      <th></th>\n",
       "      <th>body</th>\n",
       "      <th>sentiment_score</th>\n",
       "      <th>sentiment_pos</th>\n",
       "      <th>sentiment_neg</th>\n",
       "      <th>sentiment_score</th>\n",
       "    </tr>\n",
       "  </thead>\n",
       "  <tbody>\n",
       "    <tr>\n",
       "      <th>0</th>\n",
       "      <td>I'm polish and I wouldn't want to protect this...</td>\n",
       "      <td>-0.3412</td>\n",
       "      <td>0.000</td>\n",
       "      <td>0.299</td>\n",
       "      <td>-0.3412</td>\n",
       "    </tr>\n",
       "    <tr>\n",
       "      <th>1</th>\n",
       "      <td>This must've been before he invaded Poland, ba...</td>\n",
       "      <td>-0.4378</td>\n",
       "      <td>0.062</td>\n",
       "      <td>0.103</td>\n",
       "      <td>-0.4378</td>\n",
       "    </tr>\n",
       "    <tr>\n",
       "      <th>2</th>\n",
       "      <td>Poland right after USA? What have the pierogi ...</td>\n",
       "      <td>0.5502</td>\n",
       "      <td>0.202</td>\n",
       "      <td>0.000</td>\n",
       "      <td>0.5502</td>\n",
       "    </tr>\n",
       "    <tr>\n",
       "      <th>3</th>\n",
       "      <td>&amp;gt;I get the sense Poles would rather die tha...</td>\n",
       "      <td>-0.2960</td>\n",
       "      <td>0.102</td>\n",
       "      <td>0.147</td>\n",
       "      <td>-0.2960</td>\n",
       "    </tr>\n",
       "    <tr>\n",
       "      <th>4</th>\n",
       "      <td>the support for gay marriage/civil unions is h...</td>\n",
       "      <td>0.4019</td>\n",
       "      <td>0.184</td>\n",
       "      <td>0.000</td>\n",
       "      <td>0.4019</td>\n",
       "    </tr>\n",
       "  </tbody>\n",
       "</table>\n",
       "</div>"
      ],
      "text/plain": [
       "                                                body  sentiment_score  \\\n",
       "0  I'm polish and I wouldn't want to protect this...          -0.3412   \n",
       "1  This must've been before he invaded Poland, ba...          -0.4378   \n",
       "2  Poland right after USA? What have the pierogi ...           0.5502   \n",
       "3  &gt;I get the sense Poles would rather die tha...          -0.2960   \n",
       "4  the support for gay marriage/civil unions is h...           0.4019   \n",
       "\n",
       "   sentiment_pos  sentiment_neg  sentiment_score  \n",
       "0          0.000          0.299          -0.3412  \n",
       "1          0.062          0.103          -0.4378  \n",
       "2          0.202          0.000           0.5502  \n",
       "3          0.102          0.147          -0.2960  \n",
       "4          0.184          0.000           0.4019  "
      ]
     },
     "execution_count": 25,
     "metadata": {},
     "output_type": "execute_result"
    }
   ],
   "source": [
    "df_before_war[['body', 'sentiment_score', 'sentiment_pos', 'sentiment_neg', 'sentiment_score']].head()"
   ]
  },
  {
   "cell_type": "code",
   "execution_count": 26,
   "metadata": {},
   "outputs": [
    {
     "data": {
      "text/html": [
       "<div>\n",
       "<style scoped>\n",
       "    .dataframe tbody tr th:only-of-type {\n",
       "        vertical-align: middle;\n",
       "    }\n",
       "\n",
       "    .dataframe tbody tr th {\n",
       "        vertical-align: top;\n",
       "    }\n",
       "\n",
       "    .dataframe thead th {\n",
       "        text-align: right;\n",
       "    }\n",
       "</style>\n",
       "<table border=\"1\" class=\"dataframe\">\n",
       "  <thead>\n",
       "    <tr style=\"text-align: right;\">\n",
       "      <th></th>\n",
       "      <th>before score</th>\n",
       "      <th>after score</th>\n",
       "      <th>before pos</th>\n",
       "      <th>after pos</th>\n",
       "      <th>before neg</th>\n",
       "      <th>after neg</th>\n",
       "    </tr>\n",
       "  </thead>\n",
       "  <tbody>\n",
       "    <tr>\n",
       "      <th>count</th>\n",
       "      <td>25236.000000</td>\n",
       "      <td>25299.000000</td>\n",
       "      <td>25236.000000</td>\n",
       "      <td>25299.000000</td>\n",
       "      <td>25236.000000</td>\n",
       "      <td>25299.000000</td>\n",
       "    </tr>\n",
       "    <tr>\n",
       "      <th>mean</th>\n",
       "      <td>-0.027702</td>\n",
       "      <td>-0.057711</td>\n",
       "      <td>0.091664</td>\n",
       "      <td>0.088298</td>\n",
       "      <td>0.092130</td>\n",
       "      <td>0.092391</td>\n",
       "    </tr>\n",
       "    <tr>\n",
       "      <th>std</th>\n",
       "      <td>0.589072</td>\n",
       "      <td>0.594041</td>\n",
       "      <td>0.094508</td>\n",
       "      <td>0.088015</td>\n",
       "      <td>0.095658</td>\n",
       "      <td>0.088056</td>\n",
       "    </tr>\n",
       "    <tr>\n",
       "      <th>min</th>\n",
       "      <td>-1.000000</td>\n",
       "      <td>-0.999800</td>\n",
       "      <td>0.000000</td>\n",
       "      <td>0.000000</td>\n",
       "      <td>0.000000</td>\n",
       "      <td>0.000000</td>\n",
       "    </tr>\n",
       "    <tr>\n",
       "      <th>25%</th>\n",
       "      <td>-0.549900</td>\n",
       "      <td>-0.599400</td>\n",
       "      <td>0.000000</td>\n",
       "      <td>0.000000</td>\n",
       "      <td>0.000000</td>\n",
       "      <td>0.000000</td>\n",
       "    </tr>\n",
       "    <tr>\n",
       "      <th>50%</th>\n",
       "      <td>0.000000</td>\n",
       "      <td>0.000000</td>\n",
       "      <td>0.076000</td>\n",
       "      <td>0.075000</td>\n",
       "      <td>0.075000</td>\n",
       "      <td>0.080000</td>\n",
       "    </tr>\n",
       "    <tr>\n",
       "      <th>75%</th>\n",
       "      <td>0.461125</td>\n",
       "      <td>0.440400</td>\n",
       "      <td>0.133000</td>\n",
       "      <td>0.128000</td>\n",
       "      <td>0.143000</td>\n",
       "      <td>0.140000</td>\n",
       "    </tr>\n",
       "    <tr>\n",
       "      <th>max</th>\n",
       "      <td>0.999400</td>\n",
       "      <td>0.999100</td>\n",
       "      <td>0.851000</td>\n",
       "      <td>0.845000</td>\n",
       "      <td>0.819000</td>\n",
       "      <td>0.792000</td>\n",
       "    </tr>\n",
       "  </tbody>\n",
       "</table>\n",
       "</div>"
      ],
      "text/plain": [
       "       before score   after score    before pos     after pos    before neg  \\\n",
       "count  25236.000000  25299.000000  25236.000000  25299.000000  25236.000000   \n",
       "mean      -0.027702     -0.057711      0.091664      0.088298      0.092130   \n",
       "std        0.589072      0.594041      0.094508      0.088015      0.095658   \n",
       "min       -1.000000     -0.999800      0.000000      0.000000      0.000000   \n",
       "25%       -0.549900     -0.599400      0.000000      0.000000      0.000000   \n",
       "50%        0.000000      0.000000      0.076000      0.075000      0.075000   \n",
       "75%        0.461125      0.440400      0.133000      0.128000      0.143000   \n",
       "max        0.999400      0.999100      0.851000      0.845000      0.819000   \n",
       "\n",
       "          after neg  \n",
       "count  25299.000000  \n",
       "mean       0.092391  \n",
       "std        0.088056  \n",
       "min        0.000000  \n",
       "25%        0.000000  \n",
       "50%        0.080000  \n",
       "75%        0.140000  \n",
       "max        0.792000  "
      ]
     },
     "execution_count": 26,
     "metadata": {},
     "output_type": "execute_result"
    }
   ],
   "source": [
    "stat_before = df_before_war[['sentiment_score', 'sentiment_pos', 'sentiment_neg']].describe()\n",
    "stat_before.columns = ['before score', 'before pos', 'before neg']\n",
    "\n",
    "stat_after = df_after_war[['sentiment_score', 'sentiment_pos', 'sentiment_neg']].describe()\n",
    "stat_after.columns = ['after score', 'after pos', 'after neg']\n",
    "\n",
    "stats = stat_before.merge(stat_after, left_index=True, right_index=True)\n",
    "stats[['before score','after score', 'before pos', 'after pos', 'before neg', 'after neg']]"
   ]
  },
  {
   "cell_type": "markdown",
   "metadata": {},
   "source": [
    "Before the war, there are more neutral comments, while after the outbreak of the war the number of negative ones increases. They have become more polarized. However, the differences are small, and the distribution of sentiment is very similar before and after the war."
   ]
  },
  {
   "cell_type": "code",
   "execution_count": 27,
   "metadata": {},
   "outputs": [
    {
     "data": {
      "text/plain": [
       "<matplotlib.legend.Legend at 0x2063ea850d0>"
      ]
     },
     "execution_count": 27,
     "metadata": {},
     "output_type": "execute_result"
    },
    {
     "data": {
      "image/png": "[encoded data removed]",
      "text/plain": [
       "<Figure size 1000x500 with 1 Axes>"
      ]
     },
     "metadata": {},
     "output_type": "display_data"
    }
   ],
   "source": [
    "# sentiment score\n",
    "plt.style.use(\"seaborn-v0_8-whitegrid\")\n",
    "plt.figure(figsize=(10,5))\n",
    "\n",
    "x = df_before_war['sentiment_score']\n",
    "y = df_after_war['sentiment_score']\n",
    "bins = np.linspace(-1, 1)\n",
    "\n",
    "plt.title('Sentiment score')\n",
    "plt.hist([x, y], bins, label=['before war', 'after war'])\n",
    "plt.legend(loc='upper right')"
   ]
  },
  {
   "cell_type": "code",
   "execution_count": 28,
   "metadata": {},
   "outputs": [
    {
     "data": {
      "text/plain": [
       "<matplotlib.legend.Legend at 0x2063ecfe700>"
      ]
     },
     "execution_count": 28,
     "metadata": {},
     "output_type": "execute_result"
    },
    {
     "data": {
      "image/png": "[encoded data removed]",
      "text/plain": [
       "<Figure size 1000x500 with 1 Axes>"
      ]
     },
     "metadata": {},
     "output_type": "display_data"
    }
   ],
   "source": [
    "# positive sentiment\n",
    "plt.figure(figsize=(10,5))\n",
    "\n",
    "x = df_before_war['sentiment_pos']\n",
    "y = df_after_war['sentiment_pos']\n",
    "bins = np.linspace(0, 1)\n",
    "\n",
    "plt.title('Positive sentiment')\n",
    "plt.hist([x, y], bins, label=['before war', 'after war'])\n",
    "plt.legend(loc='upper right')"
   ]
  },
  {
   "cell_type": "code",
   "execution_count": 29,
   "metadata": {},
   "outputs": [
    {
     "data": {
      "text/plain": [
       "<matplotlib.legend.Legend at 0x2063d667340>"
      ]
     },
     "execution_count": 29,
     "metadata": {},
     "output_type": "execute_result"
    },
    {
     "data": {
      "image/png": "[encoded data removed]",
      "text/plain": [
       "<Figure size 1000x500 with 1 Axes>"
      ]
     },
     "metadata": {},
     "output_type": "display_data"
    }
   ],
   "source": [
    "# negative sentiment\n",
    "plt.figure(figsize=(10,5))\n",
    "\n",
    "x = df_before_war['sentiment_neg']*(-1)\n",
    "y = df_after_war['sentiment_neg']*(-1)\n",
    "bins = np.linspace(-1, 0)\n",
    "\n",
    "plt.title('Negative sentiment')\n",
    "plt.hist([x, y], bins, label=['before war', 'after war'])\n",
    "plt.legend(loc='upper left')"
   ]
  }
 ],
 "metadata": {
  "kernelspec": {
   "display_name": "Python 3 (ipykernel)",
   "language": "python",
   "name": "python3"
  },
  "language_info": {
   "codemirror_mode": {
    "name": "ipython",
    "version": 3
   },
   "file_extension": ".py",
   "mimetype": "text/x-python",
   "name": "python",
   "nbconvert_exporter": "python",
   "pygments_lexer": "ipython3",
   "version": "3.9.4"
  }
 },
 "nbformat": 4,
 "nbformat_minor": 4
}
